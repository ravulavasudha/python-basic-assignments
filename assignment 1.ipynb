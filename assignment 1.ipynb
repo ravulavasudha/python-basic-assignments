{
 "cells": [
  {
   "cell_type": "markdown",
   "id": "dfc71b0c",
   "metadata": {},
   "source": [
    " ### 1. In the below elements which of them are values or an expression? eg:- values can be integer or string and expressions will be mathematical operators.\n",
    "\n",
    "\n"
   ]
  },
  {
   "cell_type": "markdown",
   "id": "ed20bd12",
   "metadata": {},
   "source": [
    "solution:-\n",
    "\n",
    "     *  - expression\n",
    "\n",
    "     \"hello\"- value\n",
    "\n",
    "      -87.8 - value\n",
    "\n",
    "      - - expression\n",
    "\n",
    "      / - expression\n",
    "\n",
    "      + - expression\n",
    "\n",
    "       6 - value"
   ]
  },
  {
   "cell_type": "markdown",
   "id": "2117a4be",
   "metadata": {},
   "source": [
    "### 2. What is the difference between string and variable?\n",
    "\n",
    "solution:-\n",
    "\n",
    "      string can be written in quotes as mention\n",
    "       \"vaishnavi\" (or) 'vaishnavi'\n",
    "\n",
    "      variable is a thing which helps in holding a data in entity.\n",
    "\n"
   ]
  },
  {
   "cell_type": "markdown",
   "id": "bdd5b538",
   "metadata": {},
   "source": [
    "### 3.Describe three different data forms?\n",
    "\n",
    "solution:-\n",
    "int,float,list,complex\n"
   ]
  },
  {
   "cell_type": "markdown",
   "id": "ef423ed4",
   "metadata": {},
   "source": [
    "### 4. What is an expression made up of? What do all expressions do?\n",
    "\n",
    "solution:-\n",
    "expression is madeup of values,containers,and mathematical operators\n",
    "    "
   ]
  },
  {
   "cell_type": "markdown",
   "id": "365fcf99",
   "metadata": {},
   "source": [
    "### 5. This assignment statements, like spam = 10. What is the difference between an\n",
    "expression and a statement?\n",
    "\n",
    "solution:-\n",
    "as we discussed above,expressions are values,containers,and mathematical operators.\n",
    "whereas,statement is like a command which python executes like list\n"
   ]
  },
  {
   "cell_type": "markdown",
   "id": "8dd4fdd6",
   "metadata": {},
   "source": [
    "### 6. After running the following code, what does the variable bacon contain?\n",
    "bacon = 22\n",
    "bacon + 1\n",
    "\n",
    "solution:-\n",
    "23"
   ]
  },
  {
   "cell_type": "markdown",
   "id": "6a30717c",
   "metadata": {},
   "source": [
    "### 7. What should the values of the following two terms be?\n",
    "'spam' + 'spamspam'\n",
    "'spam'* 3\n",
    "\n",
    "solution:-\n",
    "same\n"
   ]
  },
  {
   "cell_type": "markdown",
   "id": "fcc57495",
   "metadata": {},
   "source": [
    "### 8. Why is eggs a valid variable name while 100 is invalid?\n",
    "\n",
    "solution:-because we cant give a integer name to a variable."
   ]
  },
  {
   "cell_type": "markdown",
   "id": "328a1a76",
   "metadata": {},
   "source": [
    "### 9. What three functions can be used to get the integer, floating-point number, or string\n",
    "version of a value?\n",
    "\n",
    "solution:-\n",
    "string()\n",
    "int()\n",
    "float()"
   ]
  },
  {
   "cell_type": "markdown",
   "id": "cccc2e3c",
   "metadata": {},
   "source": [
    "### 10. Why does this expression cause an error? How can you fix it?\n",
    "'I have eaten'+99+'burritos'\n",
    "\n",
    "solution:-\n",
    "because 99 is a integer it cannot be connected with strings.\n",
    "typecasting should be done"
   ]
  }
 ],
 "metadata": {
  "kernelspec": {
   "display_name": "Python 3 (ipykernel)",
   "language": "python",
   "name": "python3"
  },
  "language_info": {
   "codemirror_mode": {
    "name": "ipython",
    "version": 3
   },
   "file_extension": ".py",
   "mimetype": "text/x-python",
   "name": "python",
   "nbconvert_exporter": "python",
   "pygments_lexer": "ipython3",
   "version": "3.9.7"
  }
 },
 "nbformat": 4,
 "nbformat_minor": 5
}
