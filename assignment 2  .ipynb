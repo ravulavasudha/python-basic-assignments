{
 "cells": [
  {
   "cell_type": "markdown",
   "id": "eb449851",
   "metadata": {},
   "source": [
    "### What are the two values of the Boolean data type? How do you write them?"
   ]
  },
  {
   "cell_type": "code",
   "execution_count": null,
   "id": "2fb4bb0f",
   "metadata": {},
   "outputs": [],
   "source": [
    " sol:-\n",
    "    1. True\n",
    "    2. False\n",
    "    where as,\n",
    "    true=1\n",
    "    false=0"
   ]
  },
  {
   "cell_type": "code",
   "execution_count": 3,
   "id": "88de1e9f",
   "metadata": {},
   "outputs": [
    {
     "name": "stdout",
     "output_type": "stream",
     "text": [
      "True\n"
     ]
    }
   ],
   "source": [
    "#Example:\n",
    "print(19>9)"
   ]
  },
  {
   "cell_type": "code",
   "execution_count": 4,
   "id": "c95ceef5",
   "metadata": {},
   "outputs": [
    {
     "name": "stdout",
     "output_type": "stream",
     "text": [
      "False\n"
     ]
    }
   ],
   "source": [
    "print(111<9)"
   ]
  },
  {
   "cell_type": "markdown",
   "id": "7940e26d",
   "metadata": {},
   "source": [
    "### What are the three different types of Boolean operators?"
   ]
  },
  {
   "cell_type": "code",
   "execution_count": null,
   "id": "eaba494f",
   "metadata": {},
   "outputs": [],
   "source": [
    " sol:-\n",
    "     1. and\n",
    "     2. or\n",
    "     3. not\n",
    "    "
   ]
  },
  {
   "cell_type": "code",
   "execution_count": 5,
   "id": "766abe1c",
   "metadata": {},
   "outputs": [
    {
     "name": "stdout",
     "output_type": "stream",
     "text": [
      "True\n"
     ]
    }
   ],
   "source": [
    "#example\n",
    "\n",
    "if 10>9 and 10>8:\n",
    "    print(True)"
   ]
  },
  {
   "cell_type": "code",
   "execution_count": 6,
   "id": "b2b0dccc",
   "metadata": {},
   "outputs": [
    {
     "name": "stdout",
     "output_type": "stream",
     "text": [
      "True\n"
     ]
    }
   ],
   "source": [
    "if 10>11 or 10>8:\n",
    "    print(True)"
   ]
  },
  {
   "cell_type": "code",
   "execution_count": 2,
   "id": "25064c2d",
   "metadata": {},
   "outputs": [
    {
     "name": "stdout",
     "output_type": "stream",
     "text": [
      "[100, 200, 300, 400]\n"
     ]
    }
   ],
   "source": [
    "j = [100,200,300,400]\n",
    "v = []\n",
    "for v in j:\n",
    "    if v not in j:\n",
    "        m.append(v)\n",
    "print(j)"
   ]
  },
  {
   "cell_type": "markdown",
   "id": "5f92edeb",
   "metadata": {},
   "source": [
    "### Make a list of each Boolean operator&#39;s truth tables (i.e. every possible combination of Boolean values for the operator and what it evaluate)"
   ]
  },
  {
   "cell_type": "code",
   "execution_count": null,
   "id": "42cb80cc",
   "metadata": {},
   "outputs": [],
   "source": [
    "True == 1 and False == 0\n",
    "     x  y  x or y\n",
    "     0  0     0     \n",
    "     0  1     1\n",
    "     1  0     1\n",
    "     1  1     1\n",
    "     \n",
    "     x  y  x and y\n",
    "     0  0     0     \n",
    "     0  1     0\n",
    "     1  0     0\n",
    "     1  1     1\n",
    "    "
   ]
  },
  {
   "cell_type": "markdown",
   "id": "5c3ec363",
   "metadata": {},
   "source": [
    "### What are the values of the following expressions?"
   ]
  },
  {
   "cell_type": "code",
   "execution_count": null,
   "id": "af129124",
   "metadata": {},
   "outputs": [],
   "source": [
    "sol:-\n",
    "    (5 > 4) and (3 == 5)--> False\n",
    "    not(5>4)--> False\n",
    "    (5>4)or(3==5)--> True\n",
    "    not ((5 > 4) or (3 == 5))--> False\n",
    "    (True and True) and (True == False)--> False\n",
    "    (not False) or (not True)--> True"
   ]
  },
  {
   "cell_type": "markdown",
   "id": "47e31055",
   "metadata": {},
   "source": [
    "### What are the six comparison operators?"
   ]
  },
  {
   "cell_type": "code",
   "execution_count": null,
   "id": "1adea89b",
   "metadata": {},
   "outputs": [],
   "source": [
    "\n",
    "    1.!= not equal to\n",
    "    2.< greater than\n",
    "    3.> less than\n",
    "    4. <= less than equal to\n",
    "    5. >= greater than equal to\n",
    "    6. == equal to\n",
    "    "
   ]
  },
  {
   "cell_type": "markdown",
   "id": "18a2b104",
   "metadata": {},
   "source": [
    "### How do you tell the difference between the equal to and assignment operators?Describe a condition and when you would use one?"
   ]
  },
  {
   "cell_type": "code",
   "execution_count": null,
   "id": "00a7921a",
   "metadata": {},
   "outputs": [],
   "source": [
    "\n",
    "    == is equal to i.e double = sign\n",
    "    = is assignment operator\n",
    "    "
   ]
  },
  {
   "cell_type": "code",
   "execution_count": 5,
   "id": "894f2de9",
   "metadata": {},
   "outputs": [
    {
     "name": "stdout",
     "output_type": "stream",
     "text": [
      "True\n"
     ]
    }
   ],
   "source": [
    "# example of assignment operator\n",
    "a = 10\n",
    "b = 10  \n",
    "\n",
    "# example of equal operator\n",
    "if a==b:\n",
    "    print(True)"
   ]
  },
  {
   "cell_type": "markdown",
   "id": "eb75c8ef",
   "metadata": {},
   "source": [
    "### Identify the three blocks in this code:"
   ]
  },
  {
   "cell_type": "code",
   "execution_count": 36,
   "id": "6c9f710b",
   "metadata": {},
   "outputs": [
    {
     "name": "stdout",
     "output_type": "stream",
     "text": [
      "spam\n"
     ]
    }
   ],
   "source": [
    "spam = 0\n",
    "if spam == 10:\n",
    "    print('eggs')   \n",
    "    if spam > 5:    \n",
    "        print('bacon')\n",
    "    else:\n",
    "        print('ham')\n",
    "    print('spam')\n",
    "print('spam')"
   ]
  },
  {
   "cell_type": "markdown",
   "id": "af61b5b7",
   "metadata": {},
   "source": [
    "### Write code that prints Hello if 1 is stored in spam, prints Howdy if 2 is stored in spam, and prints greetings! if anything else is stored in spam.\n"
   ]
  },
  {
   "cell_type": "code",
   "execution_count": 39,
   "id": "237d0d05",
   "metadata": {},
   "outputs": [
    {
     "name": "stdout",
     "output_type": "stream",
     "text": [
      "1\n",
      "Hello\n"
     ]
    }
   ],
   "source": [
    "spam = int(input())\n",
    "\n",
    "if spam==1:\n",
    "    print(\"Hello\")\n",
    "elif spam==2:\n",
    "    print(\"Howdy\")\n",
    "else:\n",
    "    print(\"Greetings!\")"
   ]
  },
  {
   "cell_type": "code",
   "execution_count": 40,
   "id": "412b67f5",
   "metadata": {},
   "outputs": [
    {
     "name": "stdout",
     "output_type": "stream",
     "text": [
      "2\n",
      "Howdy\n"
     ]
    }
   ],
   "source": [
    "spam = int(input())\n",
    "\n",
    "if spam==1:\n",
    "    print(\"Hello\")\n",
    "elif spam==2:\n",
    "    print(\"Howdy\")\n",
    "else:\n",
    "    print(\"Greetings!\")"
   ]
  },
  {
   "cell_type": "code",
   "execution_count": 41,
   "id": "5b5c3736",
   "metadata": {},
   "outputs": [
    {
     "name": "stdout",
     "output_type": "stream",
     "text": [
      "5\n",
      "Greetings!\n"
     ]
    }
   ],
   "source": [
    "spam = int(input())\n",
    "\n",
    "if spam==1:\n",
    "    print(\"Hello\")\n",
    "elif spam==2:\n",
    "    print(\"Howdy\")\n",
    "else:\n",
    "    print(\"Greetings!\")"
   ]
  },
  {
   "cell_type": "markdown",
   "id": "815daa06",
   "metadata": {},
   "source": [
    "### If your programme is stuck in an endless loop, what keys you’ll press?"
   ]
  },
  {
   "cell_type": "raw",
   "id": "43f3e24b",
   "metadata": {},
   "source": [
    "sol:-\n",
    "    if the problem is in jupyter we can stop kernal.\n",
    "    if the problem is in command line prompt press Ctrl+C\n",
    "    "
   ]
  },
  {
   "cell_type": "markdown",
   "id": "bc201046",
   "metadata": {},
   "source": [
    " ### How can you tell the difference between break and continue?"
   ]
  },
  {
   "cell_type": "code",
   "execution_count": 44,
   "id": "965d0114",
   "metadata": {},
   "outputs": [
    {
     "name": "stdout",
     "output_type": "stream",
     "text": [
      "0\n",
      "1\n",
      "2\n",
      "3\n",
      "4\n"
     ]
    }
   ],
   "source": [
    "#example of break:\n",
    "for v in range(15):\n",
    "    if v==5:\n",
    "        break\n",
    "    print(v)"
   ]
  },
  {
   "cell_type": "code",
   "execution_count": 46,
   "id": "5a5bfe71",
   "metadata": {},
   "outputs": [
    {
     "name": "stdout",
     "output_type": "stream",
     "text": [
      "10\n",
      "20\n",
      "40\n",
      "50\n"
     ]
    }
   ],
   "source": [
    "l = [10,20,30,40,50]\n",
    "for g in l:\n",
    "    if g==30:\n",
    "        continue\n",
    "    print(g)"
   ]
  },
  {
   "cell_type": "markdown",
   "id": "028491ff",
   "metadata": {},
   "source": [
    "### In a for loop, what is the difference between range(10), range(0, 10), and range(0, 10, 1)?"
   ]
  },
  {
   "cell_type": "code",
   "execution_count": null,
   "id": "762e3836",
   "metadata": {},
   "outputs": [],
   "source": [
    "sol:-\n",
    "    range(10) and range(0,10) are same because the both give numbers from 0 to 9.\n",
    "    also if range(0,10,1) give same output starting from 0 with increment of 1 \n",
    "    upto 9"
   ]
  },
  {
   "cell_type": "markdown",
   "id": "08b13dbd",
   "metadata": {},
   "source": [
    "### Write a short program that prints the numbers 1 to 10 using a for loop. Then write an equivalent program that prints the numbers 1 to 10 using a while loop.\n"
   ]
  },
  {
   "cell_type": "code",
   "execution_count": 7,
   "id": "abef6e95",
   "metadata": {},
   "outputs": [
    {
     "name": "stdout",
     "output_type": "stream",
     "text": [
      "1\n",
      "2\n",
      "3\n",
      "4\n",
      "5\n",
      "6\n",
      "7\n",
      "8\n",
      "9\n",
      "10\n"
     ]
    }
   ],
   "source": [
    "#for loop:\n",
    "\n",
    "for i in range(1,11):\n",
    "    print(i)"
   ]
  },
  {
   "cell_type": "code",
   "execution_count": 50,
   "id": "a8524257",
   "metadata": {},
   "outputs": [
    {
     "name": "stdout",
     "output_type": "stream",
     "text": [
      "1\n",
      "2\n",
      "3\n",
      "4\n",
      "5\n",
      "6\n",
      "7\n",
      "8\n",
      "9\n",
      "10\n"
     ]
    }
   ],
   "source": [
    "#while loop:\n",
    "i = 1\n",
    "while i>0 and i<=10:\n",
    "    print(i)\n",
    "    i = i+1"
   ]
  },
  {
   "cell_type": "markdown",
   "id": "2aff0aa8",
   "metadata": {},
   "source": [
    "### If you had a function named bacon() inside a module named spam, how would you call it after importing spam?"
   ]
  },
  {
   "cell_type": "markdown",
   "id": "704727d9",
   "metadata": {},
   "source": [
    "spam.bacon()"
   ]
  }
 ],
 "metadata": {
  "kernelspec": {
   "display_name": "Python 3 (ipykernel)",
   "language": "python",
   "name": "python3"
  },
  "language_info": {
   "codemirror_mode": {
    "name": "ipython",
    "version": 3
   },
   "file_extension": ".py",
   "mimetype": "text/x-python",
   "name": "python",
   "nbconvert_exporter": "python",
   "pygments_lexer": "ipython3",
   "version": "3.9.7"
  }
 },
 "nbformat": 4,
 "nbformat_minor": 5
}
